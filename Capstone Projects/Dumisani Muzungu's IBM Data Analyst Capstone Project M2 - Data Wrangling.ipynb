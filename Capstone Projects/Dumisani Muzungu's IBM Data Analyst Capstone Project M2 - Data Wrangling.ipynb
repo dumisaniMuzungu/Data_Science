{
    "cells": [
        {
            "cell_type": "markdown",
            "metadata": {},
            "source": [
                "# *** Survey Dataset"
            ]
        },
        {
            "cell_type": "markdown",
            "metadata": {},
            "source": [
                "# **Data Wrangling Lab**\n"
            ]
        },
        {
            "cell_type": "markdown",
            "metadata": {},
            "source": [
                "## Objectives\n"
            ]
        },
        {
            "cell_type": "markdown",
            "metadata": {},
            "source": [
                "-   Identify duplicate values in the dataset.\n",
                "\n",
                "-   Remove duplicate values from the dataset.\n",
                "\n",
                "-   Identify missing values in the dataset.\n",
                "\n",
                "-   Impute the missing values in the dataset.\n",
                "\n",
                "-   Normalize data in the dataset.\n"
            ]
        },
        {
            "cell_type": "markdown",
            "metadata": {},
            "source": [
                "<hr>\n"
            ]
        },
        {
            "cell_type": "markdown",
            "metadata": {},
            "source": [
                "Import pandas module.\n"
            ]
        },
        {
            "cell_type": "code",
            "execution_count": 23,
            "metadata": {},
            "outputs": [],
            "source": [
                "import pandas as pd"
            ]
        },
        {
            "cell_type": "markdown",
            "metadata": {},
            "source": [
                "Load the dataset into a dataframe.\n"
            ]
        },
        {
            "cell_type": "code",
            "execution_count": 24,
            "metadata": {},
            "outputs": [
                {
                    "data": {
                        "text/html": [
                            "<div>\n",
                            "<style scoped>\n",
                            "    .dataframe tbody tr th:only-of-type {\n",
                            "        vertical-align: middle;\n",
                            "    }\n",
                            "\n",
                            "    .dataframe tbody tr th {\n",
                            "        vertical-align: top;\n",
                            "    }\n",
                            "\n",
                            "    .dataframe thead th {\n",
                            "        text-align: right;\n",
                            "    }\n",
                            "</style>\n",
                            "<table border=\"1\" class=\"dataframe\">\n",
                            "  <thead>\n",
                            "    <tr style=\"text-align: right;\">\n",
                            "      <th></th>\n",
                            "      <th>Respondent</th>\n",
                            "      <th>MainBranch</th>\n",
                            "      <th>Hobbyist</th>\n",
                            "      <th>OpenSourcer</th>\n",
                            "      <th>OpenSource</th>\n",
                            "      <th>Employment</th>\n",
                            "      <th>Country</th>\n",
                            "      <th>Student</th>\n",
                            "      <th>EdLevel</th>\n",
                            "      <th>UndergradMajor</th>\n",
                            "      <th>...</th>\n",
                            "      <th>EntTeams</th>\n",
                            "      <th>SOComm</th>\n",
                            "      <th>WelcomeChange</th>\n",
                            "      <th>SONewContent</th>\n",
                            "      <th>Age</th>\n",
                            "      <th>Gender</th>\n",
                            "      <th>Ethnicity</th>\n",
                            "      <th>Dependents</th>\n",
                            "      <th>SurveyLength</th>\n",
                            "      <th>SurveyEase</th>\n",
                            "    </tr>\n",
                            "  </thead>\n",
                            "  <tbody>\n",
                            "    <tr>\n",
                            "      <th>0</th>\n",
                            "      <td>4</td>\n",
                            "      <td>I am a developer by profession</td>\n",
                            "      <td>No</td>\n",
                            "      <td>Never</td>\n",
                            "      <td>The quality of OSS and closed source software ...</td>\n",
                            "      <td>Employed full-time</td>\n",
                            "      <td>United States</td>\n",
                            "      <td>No</td>\n",
                            "      <td>Bachelor’s degree (BA, BS, B.Eng., etc.)</td>\n",
                            "      <td>Computer science, computer engineering, or sof...</td>\n",
                            "      <td>...</td>\n",
                            "      <td>No, and I don't know what those are</td>\n",
                            "      <td>No, not really</td>\n",
                            "      <td>Just as welcome now as I felt last year</td>\n",
                            "      <td>Tech articles written by other developers;Indu...</td>\n",
                            "      <td>22.0</td>\n",
                            "      <td>Man</td>\n",
                            "      <td>White or of European descent</td>\n",
                            "      <td>No</td>\n",
                            "      <td>Appropriate in length</td>\n",
                            "      <td>Easy</td>\n",
                            "    </tr>\n",
                            "    <tr>\n",
                            "      <th>1</th>\n",
                            "      <td>9</td>\n",
                            "      <td>I am a developer by profession</td>\n",
                            "      <td>Yes</td>\n",
                            "      <td>Once a month or more often</td>\n",
                            "      <td>The quality of OSS and closed source software ...</td>\n",
                            "      <td>Employed full-time</td>\n",
                            "      <td>New Zealand</td>\n",
                            "      <td>No</td>\n",
                            "      <td>Some college/university study without earning ...</td>\n",
                            "      <td>Computer science, computer engineering, or sof...</td>\n",
                            "      <td>...</td>\n",
                            "      <td>No, and I don't know what those are</td>\n",
                            "      <td>Yes, somewhat</td>\n",
                            "      <td>Just as welcome now as I felt last year</td>\n",
                            "      <td>NaN</td>\n",
                            "      <td>23.0</td>\n",
                            "      <td>Man</td>\n",
                            "      <td>White or of European descent</td>\n",
                            "      <td>No</td>\n",
                            "      <td>Appropriate in length</td>\n",
                            "      <td>Neither easy nor difficult</td>\n",
                            "    </tr>\n",
                            "    <tr>\n",
                            "      <th>2</th>\n",
                            "      <td>13</td>\n",
                            "      <td>I am a developer by profession</td>\n",
                            "      <td>Yes</td>\n",
                            "      <td>Less than once a month but more than once per ...</td>\n",
                            "      <td>OSS is, on average, of HIGHER quality than pro...</td>\n",
                            "      <td>Employed full-time</td>\n",
                            "      <td>United States</td>\n",
                            "      <td>No</td>\n",
                            "      <td>Master’s degree (MA, MS, M.Eng., MBA, etc.)</td>\n",
                            "      <td>Computer science, computer engineering, or sof...</td>\n",
                            "      <td>...</td>\n",
                            "      <td>No, I've heard of them, but I am not part of a...</td>\n",
                            "      <td>Neutral</td>\n",
                            "      <td>Somewhat more welcome now than last year</td>\n",
                            "      <td>Tech articles written by other developers;Cour...</td>\n",
                            "      <td>28.0</td>\n",
                            "      <td>Man</td>\n",
                            "      <td>White or of European descent</td>\n",
                            "      <td>Yes</td>\n",
                            "      <td>Appropriate in length</td>\n",
                            "      <td>Easy</td>\n",
                            "    </tr>\n",
                            "    <tr>\n",
                            "      <th>3</th>\n",
                            "      <td>16</td>\n",
                            "      <td>I am a developer by profession</td>\n",
                            "      <td>Yes</td>\n",
                            "      <td>Never</td>\n",
                            "      <td>The quality of OSS and closed source software ...</td>\n",
                            "      <td>Employed full-time</td>\n",
                            "      <td>United Kingdom</td>\n",
                            "      <td>No</td>\n",
                            "      <td>Master’s degree (MA, MS, M.Eng., MBA, etc.)</td>\n",
                            "      <td>NaN</td>\n",
                            "      <td>...</td>\n",
                            "      <td>No, I've heard of them, but I am not part of a...</td>\n",
                            "      <td>Yes, somewhat</td>\n",
                            "      <td>Just as welcome now as I felt last year</td>\n",
                            "      <td>Tech articles written by other developers;Indu...</td>\n",
                            "      <td>26.0</td>\n",
                            "      <td>Man</td>\n",
                            "      <td>White or of European descent</td>\n",
                            "      <td>No</td>\n",
                            "      <td>Appropriate in length</td>\n",
                            "      <td>Neither easy nor difficult</td>\n",
                            "    </tr>\n",
                            "    <tr>\n",
                            "      <th>4</th>\n",
                            "      <td>17</td>\n",
                            "      <td>I am a developer by profession</td>\n",
                            "      <td>Yes</td>\n",
                            "      <td>Less than once a month but more than once per ...</td>\n",
                            "      <td>The quality of OSS and closed source software ...</td>\n",
                            "      <td>Employed full-time</td>\n",
                            "      <td>Australia</td>\n",
                            "      <td>No</td>\n",
                            "      <td>Bachelor’s degree (BA, BS, B.Eng., etc.)</td>\n",
                            "      <td>Computer science, computer engineering, or sof...</td>\n",
                            "      <td>...</td>\n",
                            "      <td>No, I've heard of them, but I am not part of a...</td>\n",
                            "      <td>Yes, somewhat</td>\n",
                            "      <td>Just as welcome now as I felt last year</td>\n",
                            "      <td>Tech articles written by other developers;Indu...</td>\n",
                            "      <td>29.0</td>\n",
                            "      <td>Man</td>\n",
                            "      <td>Hispanic or Latino/Latina;Multiracial</td>\n",
                            "      <td>No</td>\n",
                            "      <td>Appropriate in length</td>\n",
                            "      <td>Easy</td>\n",
                            "    </tr>\n",
                            "    <tr>\n",
                            "      <th>...</th>\n",
                            "      <td>...</td>\n",
                            "      <td>...</td>\n",
                            "      <td>...</td>\n",
                            "      <td>...</td>\n",
                            "      <td>...</td>\n",
                            "      <td>...</td>\n",
                            "      <td>...</td>\n",
                            "      <td>...</td>\n",
                            "      <td>...</td>\n",
                            "      <td>...</td>\n",
                            "      <td>...</td>\n",
                            "      <td>...</td>\n",
                            "      <td>...</td>\n",
                            "      <td>...</td>\n",
                            "      <td>...</td>\n",
                            "      <td>...</td>\n",
                            "      <td>...</td>\n",
                            "      <td>...</td>\n",
                            "      <td>...</td>\n",
                            "      <td>...</td>\n",
                            "      <td>...</td>\n",
                            "    </tr>\n",
                            "    <tr>\n",
                            "      <th>11393</th>\n",
                            "      <td>25136</td>\n",
                            "      <td>I am a developer by profession</td>\n",
                            "      <td>Yes</td>\n",
                            "      <td>Never</td>\n",
                            "      <td>OSS is, on average, of HIGHER quality than pro...</td>\n",
                            "      <td>Employed full-time</td>\n",
                            "      <td>United States</td>\n",
                            "      <td>No</td>\n",
                            "      <td>Master’s degree (MA, MS, M.Eng., MBA, etc.)</td>\n",
                            "      <td>Computer science, computer engineering, or sof...</td>\n",
                            "      <td>...</td>\n",
                            "      <td>No, I've heard of them, but I am not part of a...</td>\n",
                            "      <td>Yes, somewhat</td>\n",
                            "      <td>Just as welcome now as I felt last year</td>\n",
                            "      <td>Tech articles written by other developers;Cour...</td>\n",
                            "      <td>36.0</td>\n",
                            "      <td>Man</td>\n",
                            "      <td>White or of European descent</td>\n",
                            "      <td>No</td>\n",
                            "      <td>Appropriate in length</td>\n",
                            "      <td>Difficult</td>\n",
                            "    </tr>\n",
                            "    <tr>\n",
                            "      <th>11394</th>\n",
                            "      <td>25137</td>\n",
                            "      <td>I am a developer by profession</td>\n",
                            "      <td>Yes</td>\n",
                            "      <td>Never</td>\n",
                            "      <td>The quality of OSS and closed source software ...</td>\n",
                            "      <td>Employed full-time</td>\n",
                            "      <td>Poland</td>\n",
                            "      <td>No</td>\n",
                            "      <td>Master’s degree (MA, MS, M.Eng., MBA, etc.)</td>\n",
                            "      <td>Computer science, computer engineering, or sof...</td>\n",
                            "      <td>...</td>\n",
                            "      <td>No, and I don't know what those are</td>\n",
                            "      <td>Neutral</td>\n",
                            "      <td>A lot more welcome now than last year</td>\n",
                            "      <td>Tech articles written by other developers;Tech...</td>\n",
                            "      <td>25.0</td>\n",
                            "      <td>Man</td>\n",
                            "      <td>White or of European descent</td>\n",
                            "      <td>No</td>\n",
                            "      <td>Appropriate in length</td>\n",
                            "      <td>Neither easy nor difficult</td>\n",
                            "    </tr>\n",
                            "    <tr>\n",
                            "      <th>11395</th>\n",
                            "      <td>25138</td>\n",
                            "      <td>I am a developer by profession</td>\n",
                            "      <td>Yes</td>\n",
                            "      <td>Less than once per year</td>\n",
                            "      <td>The quality of OSS and closed source software ...</td>\n",
                            "      <td>Employed full-time</td>\n",
                            "      <td>United States</td>\n",
                            "      <td>No</td>\n",
                            "      <td>Master’s degree (MA, MS, M.Eng., MBA, etc.)</td>\n",
                            "      <td>Computer science, computer engineering, or sof...</td>\n",
                            "      <td>...</td>\n",
                            "      <td>No, I've heard of them, but I am not part of a...</td>\n",
                            "      <td>Neutral</td>\n",
                            "      <td>A lot more welcome now than last year</td>\n",
                            "      <td>Tech articles written by other developers;Indu...</td>\n",
                            "      <td>34.0</td>\n",
                            "      <td>Man</td>\n",
                            "      <td>White or of European descent</td>\n",
                            "      <td>Yes</td>\n",
                            "      <td>Too long</td>\n",
                            "      <td>Easy</td>\n",
                            "    </tr>\n",
                            "    <tr>\n",
                            "      <th>11396</th>\n",
                            "      <td>25141</td>\n",
                            "      <td>I am a developer by profession</td>\n",
                            "      <td>Yes</td>\n",
                            "      <td>Less than once a month but more than once per ...</td>\n",
                            "      <td>OSS is, on average, of LOWER quality than prop...</td>\n",
                            "      <td>Employed full-time</td>\n",
                            "      <td>Switzerland</td>\n",
                            "      <td>No</td>\n",
                            "      <td>Secondary school (e.g. American high school, G...</td>\n",
                            "      <td>NaN</td>\n",
                            "      <td>...</td>\n",
                            "      <td>No, I've heard of them, but I am not part of a...</td>\n",
                            "      <td>Yes, somewhat</td>\n",
                            "      <td>Somewhat less welcome now than last year</td>\n",
                            "      <td>NaN</td>\n",
                            "      <td>25.0</td>\n",
                            "      <td>Man</td>\n",
                            "      <td>White or of European descent</td>\n",
                            "      <td>No</td>\n",
                            "      <td>Appropriate in length</td>\n",
                            "      <td>Easy</td>\n",
                            "    </tr>\n",
                            "    <tr>\n",
                            "      <th>11397</th>\n",
                            "      <td>25142</td>\n",
                            "      <td>I am a developer by profession</td>\n",
                            "      <td>Yes</td>\n",
                            "      <td>Less than once a month but more than once per ...</td>\n",
                            "      <td>OSS is, on average, of HIGHER quality than pro...</td>\n",
                            "      <td>Employed full-time</td>\n",
                            "      <td>United Kingdom</td>\n",
                            "      <td>No</td>\n",
                            "      <td>Other doctoral degree (Ph.D, Ed.D., etc.)</td>\n",
                            "      <td>A natural science (ex. biology, chemistry, phy...</td>\n",
                            "      <td>...</td>\n",
                            "      <td>No, and I don't know what those are</td>\n",
                            "      <td>Yes, somewhat</td>\n",
                            "      <td>Just as welcome now as I felt last year</td>\n",
                            "      <td>Tech articles written by other developers;Tech...</td>\n",
                            "      <td>30.0</td>\n",
                            "      <td>Man</td>\n",
                            "      <td>White or of European descent</td>\n",
                            "      <td>No</td>\n",
                            "      <td>Appropriate in length</td>\n",
                            "      <td>Easy</td>\n",
                            "    </tr>\n",
                            "  </tbody>\n",
                            "</table>\n",
                            "<p>11398 rows × 68 columns</p>\n",
                            "</div>"
                        ],
                        "text/plain": [
                            "       Respondent                      MainBranch Hobbyist  \\\n",
                            "0               4  I am a developer by profession       No   \n",
                            "1               9  I am a developer by profession      Yes   \n",
                            "2              13  I am a developer by profession      Yes   \n",
                            "3              16  I am a developer by profession      Yes   \n",
                            "4              17  I am a developer by profession      Yes   \n",
                            "...           ...                             ...      ...   \n",
                            "11393       25136  I am a developer by profession      Yes   \n",
                            "11394       25137  I am a developer by profession      Yes   \n",
                            "11395       25138  I am a developer by profession      Yes   \n",
                            "11396       25141  I am a developer by profession      Yes   \n",
                            "11397       25142  I am a developer by profession      Yes   \n",
                            "\n",
                            "                                             OpenSourcer  \\\n",
                            "0                                                  Never   \n",
                            "1                             Once a month or more often   \n",
                            "2      Less than once a month but more than once per ...   \n",
                            "3                                                  Never   \n",
                            "4      Less than once a month but more than once per ...   \n",
                            "...                                                  ...   \n",
                            "11393                                              Never   \n",
                            "11394                                              Never   \n",
                            "11395                            Less than once per year   \n",
                            "11396  Less than once a month but more than once per ...   \n",
                            "11397  Less than once a month but more than once per ...   \n",
                            "\n",
                            "                                              OpenSource          Employment  \\\n",
                            "0      The quality of OSS and closed source software ...  Employed full-time   \n",
                            "1      The quality of OSS and closed source software ...  Employed full-time   \n",
                            "2      OSS is, on average, of HIGHER quality than pro...  Employed full-time   \n",
                            "3      The quality of OSS and closed source software ...  Employed full-time   \n",
                            "4      The quality of OSS and closed source software ...  Employed full-time   \n",
                            "...                                                  ...                 ...   \n",
                            "11393  OSS is, on average, of HIGHER quality than pro...  Employed full-time   \n",
                            "11394  The quality of OSS and closed source software ...  Employed full-time   \n",
                            "11395  The quality of OSS and closed source software ...  Employed full-time   \n",
                            "11396  OSS is, on average, of LOWER quality than prop...  Employed full-time   \n",
                            "11397  OSS is, on average, of HIGHER quality than pro...  Employed full-time   \n",
                            "\n",
                            "              Country Student  \\\n",
                            "0       United States      No   \n",
                            "1         New Zealand      No   \n",
                            "2       United States      No   \n",
                            "3      United Kingdom      No   \n",
                            "4           Australia      No   \n",
                            "...               ...     ...   \n",
                            "11393   United States      No   \n",
                            "11394          Poland      No   \n",
                            "11395   United States      No   \n",
                            "11396     Switzerland      No   \n",
                            "11397  United Kingdom      No   \n",
                            "\n",
                            "                                                 EdLevel  \\\n",
                            "0               Bachelor’s degree (BA, BS, B.Eng., etc.)   \n",
                            "1      Some college/university study without earning ...   \n",
                            "2            Master’s degree (MA, MS, M.Eng., MBA, etc.)   \n",
                            "3            Master’s degree (MA, MS, M.Eng., MBA, etc.)   \n",
                            "4               Bachelor’s degree (BA, BS, B.Eng., etc.)   \n",
                            "...                                                  ...   \n",
                            "11393        Master’s degree (MA, MS, M.Eng., MBA, etc.)   \n",
                            "11394        Master’s degree (MA, MS, M.Eng., MBA, etc.)   \n",
                            "11395        Master’s degree (MA, MS, M.Eng., MBA, etc.)   \n",
                            "11396  Secondary school (e.g. American high school, G...   \n",
                            "11397          Other doctoral degree (Ph.D, Ed.D., etc.)   \n",
                            "\n",
                            "                                          UndergradMajor  ...  \\\n",
                            "0      Computer science, computer engineering, or sof...  ...   \n",
                            "1      Computer science, computer engineering, or sof...  ...   \n",
                            "2      Computer science, computer engineering, or sof...  ...   \n",
                            "3                                                    NaN  ...   \n",
                            "4      Computer science, computer engineering, or sof...  ...   \n",
                            "...                                                  ...  ...   \n",
                            "11393  Computer science, computer engineering, or sof...  ...   \n",
                            "11394  Computer science, computer engineering, or sof...  ...   \n",
                            "11395  Computer science, computer engineering, or sof...  ...   \n",
                            "11396                                                NaN  ...   \n",
                            "11397  A natural science (ex. biology, chemistry, phy...  ...   \n",
                            "\n",
                            "                                                EntTeams          SOComm  \\\n",
                            "0                    No, and I don't know what those are  No, not really   \n",
                            "1                    No, and I don't know what those are   Yes, somewhat   \n",
                            "2      No, I've heard of them, but I am not part of a...         Neutral   \n",
                            "3      No, I've heard of them, but I am not part of a...   Yes, somewhat   \n",
                            "4      No, I've heard of them, but I am not part of a...   Yes, somewhat   \n",
                            "...                                                  ...             ...   \n",
                            "11393  No, I've heard of them, but I am not part of a...   Yes, somewhat   \n",
                            "11394                No, and I don't know what those are         Neutral   \n",
                            "11395  No, I've heard of them, but I am not part of a...         Neutral   \n",
                            "11396  No, I've heard of them, but I am not part of a...   Yes, somewhat   \n",
                            "11397                No, and I don't know what those are   Yes, somewhat   \n",
                            "\n",
                            "                                  WelcomeChange  \\\n",
                            "0       Just as welcome now as I felt last year   \n",
                            "1       Just as welcome now as I felt last year   \n",
                            "2      Somewhat more welcome now than last year   \n",
                            "3       Just as welcome now as I felt last year   \n",
                            "4       Just as welcome now as I felt last year   \n",
                            "...                                         ...   \n",
                            "11393   Just as welcome now as I felt last year   \n",
                            "11394     A lot more welcome now than last year   \n",
                            "11395     A lot more welcome now than last year   \n",
                            "11396  Somewhat less welcome now than last year   \n",
                            "11397   Just as welcome now as I felt last year   \n",
                            "\n",
                            "                                            SONewContent   Age Gender  \\\n",
                            "0      Tech articles written by other developers;Indu...  22.0    Man   \n",
                            "1                                                    NaN  23.0    Man   \n",
                            "2      Tech articles written by other developers;Cour...  28.0    Man   \n",
                            "3      Tech articles written by other developers;Indu...  26.0    Man   \n",
                            "4      Tech articles written by other developers;Indu...  29.0    Man   \n",
                            "...                                                  ...   ...    ...   \n",
                            "11393  Tech articles written by other developers;Cour...  36.0    Man   \n",
                            "11394  Tech articles written by other developers;Tech...  25.0    Man   \n",
                            "11395  Tech articles written by other developers;Indu...  34.0    Man   \n",
                            "11396                                                NaN  25.0    Man   \n",
                            "11397  Tech articles written by other developers;Tech...  30.0    Man   \n",
                            "\n",
                            "                                   Ethnicity Dependents  \\\n",
                            "0               White or of European descent         No   \n",
                            "1               White or of European descent         No   \n",
                            "2               White or of European descent        Yes   \n",
                            "3               White or of European descent         No   \n",
                            "4      Hispanic or Latino/Latina;Multiracial         No   \n",
                            "...                                      ...        ...   \n",
                            "11393           White or of European descent         No   \n",
                            "11394           White or of European descent         No   \n",
                            "11395           White or of European descent        Yes   \n",
                            "11396           White or of European descent         No   \n",
                            "11397           White or of European descent         No   \n",
                            "\n",
                            "                SurveyLength                  SurveyEase  \n",
                            "0      Appropriate in length                        Easy  \n",
                            "1      Appropriate in length  Neither easy nor difficult  \n",
                            "2      Appropriate in length                        Easy  \n",
                            "3      Appropriate in length  Neither easy nor difficult  \n",
                            "4      Appropriate in length                        Easy  \n",
                            "...                      ...                         ...  \n",
                            "11393  Appropriate in length                   Difficult  \n",
                            "11394  Appropriate in length  Neither easy nor difficult  \n",
                            "11395               Too long                        Easy  \n",
                            "11396  Appropriate in length                        Easy  \n",
                            "11397  Appropriate in length                        Easy  \n",
                            "\n",
                            "[11398 rows x 68 columns]"
                        ]
                    },
                    "execution_count": 24,
                    "metadata": {},
                    "output_type": "execute_result"
                }
            ],
            "source": [
                "df= pd.read_csv(\"/projects_csv/survey_data_demographics.csv\")\n",
                "df"
            ]
        },
        {
            "cell_type": "code",
            "execution_count": 25,
            "metadata": {},
            "outputs": [
                {
                    "data": {
                        "text/plain": [
                            "(11398, 68)"
                        ]
                    },
                    "execution_count": 25,
                    "metadata": {},
                    "output_type": "execute_result"
                }
            ],
            "source": [
                "df.shape"
            ]
        },
        {
            "cell_type": "markdown",
            "metadata": {},
            "source": [
                "## Finding duplicates\n"
            ]
        },
        {
            "cell_type": "markdown",
            "metadata": {},
            "source": [
                " Find how many duplicate rows exist in the dataframe.\n"
            ]
        },
        {
            "cell_type": "code",
            "execution_count": 26,
            "metadata": {},
            "outputs": [
                {
                    "name": "stdout",
                    "output_type": "stream",
                    "text": [
                        "There are 0 duplicate rows.\n",
                        "There are 0 duplicate Respondants.\n"
                    ]
                }
            ],
            "source": [
                "\n",
                "print('There are', df.duplicated().sum(), 'duplicate rows.')\n",
                "print('There are', df.duplicated('Respondent').sum(), 'duplicate Respondants.')\n"
            ]
        },
        {
            "cell_type": "markdown",
            "metadata": {},
            "source": [
                "## Removing duplicates\n"
            ]
        },
        {
            "cell_type": "markdown",
            "metadata": {},
            "source": [
                "Remove the duplicate rows from the dataframe.\n"
            ]
        },
        {
            "cell_type": "code",
            "execution_count": 27,
            "metadata": {},
            "outputs": [
                {
                    "data": {
                        "text/plain": [
                            "(11398, 68)"
                        ]
                    },
                    "execution_count": 27,
                    "metadata": {},
                    "output_type": "execute_result"
                }
            ],
            "source": [
                "\n",
                "df.drop_duplicates(inplace=True)\n",
                "df.shape"
            ]
        },
        {
            "cell_type": "markdown",
            "metadata": {},
            "source": [
                "Verify if duplicates were actually dropped.\n"
            ]
        },
        {
            "cell_type": "code",
            "execution_count": 28,
            "metadata": {},
            "outputs": [
                {
                    "name": "stdout",
                    "output_type": "stream",
                    "text": [
                        "There are now 0 duplicate rows.\n",
                        "There are 0 duplicate Respondants.\n"
                    ]
                }
            ],
            "source": [
                "\n",
                "print('There are now', df.duplicated().sum(), 'duplicate rows.')\n",
                "print('There are', df.duplicated('Respondent').sum(), 'duplicate Respondants.')"
            ]
        },
        {
            "cell_type": "markdown",
            "metadata": {},
            "source": [
                "## Finding Missing values\n"
            ]
        },
        {
            "cell_type": "markdown",
            "metadata": {},
            "source": [
                "Find the missing values for all columns.\n"
            ]
        },
        {
            "cell_type": "code",
            "execution_count": 29,
            "metadata": {},
            "outputs": [
                {
                    "name": "stdout",
                    "output_type": "stream",
                    "text": [
                        "Respondent           0\n",
                        "MainBranch           0\n",
                        "Hobbyist             0\n",
                        "OpenSourcer          0\n",
                        "OpenSource          81\n",
                        "Employment           0\n",
                        "Country              0\n",
                        "Student             51\n",
                        "EdLevel            112\n",
                        "UndergradMajor     737\n",
                        "EduOther           164\n",
                        "OrgSize             96\n",
                        "DevType             65\n",
                        "YearsCode            9\n",
                        "Age1stCode          13\n",
                        "YearsCodePro        16\n",
                        "CareerSat            0\n",
                        "JobSat               1\n",
                        "MgrIdiot           493\n",
                        "MgrMoney           497\n",
                        "MgrWant            493\n",
                        "JobSeek              0\n",
                        "LastHireDate         0\n",
                        "LastInt            413\n",
                        "FizzBuzz            37\n",
                        "JobFactors           3\n",
                        "ResumeUpdate        39\n",
                        "CurrencySymbol       0\n",
                        "CurrencyDesc         0\n",
                        "CompTotal          809\n",
                        "CompFreq           206\n",
                        "ConvertedComp      816\n",
                        "WorkWeekHrs        122\n",
                        "WorkPlan           121\n",
                        "WorkChallenge      164\n",
                        "WorkRemote           8\n",
                        "WorkLoc             32\n",
                        "ImpSyn               5\n",
                        "CodeRev              1\n",
                        "CodeRevHrs        2426\n",
                        "UnitTests           29\n",
                        "PurchaseHow        196\n",
                        "PurchaseWhat        38\n",
                        "BetterLife          98\n",
                        "ITperson            35\n",
                        "OffOn               38\n",
                        "SocialMedia        293\n",
                        "Extraversion        20\n",
                        "ScreenName         507\n",
                        "SOVisit1st         325\n",
                        "SOVisitFreq          5\n",
                        "SOVisitTo            1\n",
                        "SOFindAnswer         3\n",
                        "SOTimeSaved         50\n",
                        "SOHowMuchTime     1917\n",
                        "SOAccount            1\n",
                        "SOPartFreq        1128\n",
                        "SOJobs               6\n",
                        "EntTeams             5\n",
                        "SOComm               0\n",
                        "WelcomeChange       85\n",
                        "SONewContent      1965\n",
                        "Age                287\n",
                        "Gender              73\n",
                        "Ethnicity          675\n",
                        "Dependents         140\n",
                        "SurveyLength        19\n",
                        "SurveyEase          14\n",
                        "dtype: int64\n"
                    ]
                }
            ],
            "source": [
                "\n",
                "with pd.option_context('display.max_rows', None, 'display.max_columns', None):\n",
                "    print(df.isnull().sum())"
            ]
        },
        {
            "cell_type": "markdown",
            "metadata": {},
            "source": [
                "Find out how many rows are missing in the column 'WorkLoc'\n"
            ]
        },
        {
            "cell_type": "code",
            "execution_count": 30,
            "metadata": {},
            "outputs": [
                {
                    "name": "stdout",
                    "output_type": "stream",
                    "text": [
                        "There are 32 missing values in the column 'WorkLoc'\n",
                        "There are 112 missing values in the column 'EdLevel'\n",
                        "There are 0 missing values in the column 'Country'\n"
                    ]
                }
            ],
            "source": [
                "\n",
                "print(\"There are\", df['WorkLoc'].isnull().sum(), \"missing values in the column 'WorkLoc'\")\n",
                "print(\"There are\", df['EdLevel'].isnull().sum(), \"missing values in the column 'EdLevel'\")\n",
                "print(\"There are\", df['Country'].isnull().sum(), \"missing values in the column 'Country'\")"
            ]
        },
        {
            "cell_type": "markdown",
            "metadata": {},
            "source": [
                "## Imputing missing values\n"
            ]
        },
        {
            "cell_type": "markdown",
            "metadata": {},
            "source": [
                "<!-- Find the  value counts for the column WorkLoc. -->\n"
            ]
        },
        {
            "cell_type": "code",
            "execution_count": 31,
            "metadata": {},
            "outputs": [
                {
                    "name": "stdout",
                    "output_type": "stream",
                    "text": [
                        "There are 3 unique Work Locations in the survey:\n",
                        "\n",
                        "WorkLoc                                    value count\n",
                        "-------                                    -----------\n",
                        "Office                                            6806\n",
                        "Home                                              3589\n",
                        "Other place, such as a coworking space or cafe     971\n",
                        "Name: WorkLoc, dtype: int64\n",
                        "\n",
                        "\n",
                        "There are 2 unique Employment values in the survey:\n",
                        "\n",
                        "Employment        value count\n",
                        "----------        -----------\n",
                        "Employed full-time    10968\n",
                        "Employed part-time      430\n",
                        "Name: Employment, dtype: int64\n",
                        "\n",
                        "\n",
                        "There are 12 unique UndergradMajor values in the survey:\n",
                        "\n",
                        "UndergradMajor        value count\n",
                        "---------------        -----------\n",
                        "Computer science, computer engineering, or software engineering          6953\n",
                        "Information systems, information technology, or system administration     794\n",
                        "Another engineering discipline (ex. civil, electrical, mechanical)        759\n",
                        "Web development or web design                                             410\n",
                        "A natural science (ex. biology, chemistry, physics)                       403\n",
                        "Mathematics or statistics                                                 372\n",
                        "A business discipline (ex. accounting, finance, marketing)                244\n",
                        "A social science (ex. anthropology, psychology, political science)        210\n",
                        "A humanities discipline (ex. literature, history, philosophy)             207\n",
                        "Fine arts or performing arts (ex. graphic design, music, studio art)      161\n",
                        "I never declared a major                                                  124\n",
                        "A health science (ex. nursing, pharmacy, radiology)                        24\n",
                        "Name: UndergradMajor, dtype: int64\n"
                    ]
                }
            ],
            "source": [
                "\n",
                "print('There are', df['WorkLoc'].nunique(), 'unique Work Locations in the survey:')\n",
                "\n",
                "print('\\nWorkLoc                                    value count')      \n",
                "print('-------                                    -----------')\n",
                "print(df['WorkLoc'].value_counts())\n",
                "\n",
                "print('\\n\\nThere are', df['Employment'].nunique(), 'unique Employment values in the survey:')\n",
                "\n",
                "print('\\nEmployment        value count')      \n",
                "print('----------        -----------')\n",
                "print(df['Employment'].value_counts())\n",
                "\n",
                "print('\\n\\nThere are', df['UndergradMajor'].nunique(), 'unique UndergradMajor values in the survey:')\n",
                "\n",
                "print('\\nUndergradMajor        value count')      \n",
                "print('---------------        -----------')\n",
                "print(df['UndergradMajor'].value_counts())"
            ]
        },
        {
            "cell_type": "markdown",
            "metadata": {},
            "source": [
                "Identify the value that is most frequent (majority) in the WorkLoc column.\n"
            ]
        },
        {
            "cell_type": "code",
            "execution_count": 32,
            "metadata": {},
            "outputs": [
                {
                    "name": "stdout",
                    "output_type": "stream",
                    "text": [
                        "131596.7316197316\n",
                        "57745.0\n"
                    ]
                }
            ],
            "source": [
                "#make a note of the majority value here, for future reference\n",
                "# majority value is \"Office\" (6806)\n",
                "\n",
                "print(df['ConvertedComp'].mean())\n",
                "print(df['ConvertedComp'].median())"
            ]
        },
        {
            "cell_type": "markdown",
            "metadata": {},
            "source": [
                "Impute (replace) all the empty rows in the column WorkLoc with the value that you have identified as majority.\n"
            ]
        },
        {
            "cell_type": "code",
            "execution_count": 33,
            "metadata": {},
            "outputs": [
                {
                    "name": "stdout",
                    "output_type": "stream",
                    "text": [
                        "\n",
                        "Value counts for missing data in WorkLoc:\n",
                        "\n",
                        "False    11366\n",
                        "True        32\n",
                        "Name: WorkLoc, dtype: int64\n",
                        "\n",
                        "Here are the first 10 rows missing values for WorkLoc:\n",
                        "      Respondent WorkLoc\n",
                        "130          285     NaN\n",
                        "242          550     NaN\n",
                        "866         1847     NaN\n",
                        "1333        2826     NaN\n",
                        "1631        3536     NaN\n",
                        "2185        4768     NaN\n",
                        "2535        5562     NaN\n",
                        "2634        5769     NaN\n",
                        "3011        6613     NaN\n",
                        "3059        6721     NaN\n"
                    ]
                }
            ],
            "source": [
                "\n",
                "import numpy as np\n",
                "\n",
                "workloc_highest = 'Office'\n",
                "\n",
                "missing_data = df.isnull()\n",
                "#print(missing_data.head(5))\n",
                "\n",
                "print('\\nValue counts for missing data in WorkLoc:\\n')\n",
                "print( missing_data['WorkLoc'].value_counts())\n",
                "\n",
                "\n",
                "print('\\nHere are the first 10 rows missing values for WorkLoc:')\n",
                "print(df[missing_data['WorkLoc']][['Respondent','WorkLoc']].head(10))\n",
                "\n",
                "df['WorkLoc'].replace(np.nan, workloc_highest, inplace=True)"
            ]
        },
        {
            "cell_type": "markdown",
            "metadata": {},
            "source": [
                "After imputation there should ideally not be any empty rows in the WorkLoc column.\n"
            ]
        },
        {
            "cell_type": "markdown",
            "metadata": {},
            "source": [
                "To verify if imputing was successful.\n"
            ]
        },
        {
            "cell_type": "code",
            "execution_count": 34,
            "metadata": {},
            "outputs": [
                {
                    "name": "stdout",
                    "output_type": "stream",
                    "text": [
                        "\n",
                        "New value counts for missing data in WorkLoc:\n",
                        "\n",
                        "False    11366\n",
                        "True        32\n",
                        "Name: WorkLoc, dtype: int64\n"
                    ]
                }
            ],
            "source": [
                "\n",
                "print('\\nNew value counts for missing data in WorkLoc:\\n')\n",
                "print(missing_data['WorkLoc'].value_counts())\n",
                "# There are no 'True' values means that we have eliminated all empty WorkLoc values."
            ]
        },
        {
            "cell_type": "markdown",
            "metadata": {},
            "source": [
                "## Normalizing data\n"
            ]
        },
        {
            "cell_type": "markdown",
            "metadata": {},
            "source": [
                "There are two columns in the dataset that talk about compensation.\n",
                "\n",
                "One is \"CompFreq\". This column shows how often a developer is paid (Yearly, Monthly, Weekly).\n",
                "\n",
                "The other is \"CompTotal\". This column talks about how much the developer is paid per Year, Month, or Week depending upon his/her \"CompFreq\". \n",
                "\n",
                "This makes it difficult to compare the total compensation of the developers.\n",
                "\n",
                "In this section you will create a new column called 'NormalizedAnnualCompensation' which contains the 'Annual Compensation' irrespective of the 'CompFreq'.\n",
                "\n",
                "Once this column is ready, it makes comparison of salaries easy.\n"
            ]
        },
        {
            "cell_type": "markdown",
            "metadata": {},
            "source": [
                "<hr>\n"
            ]
        },
        {
            "cell_type": "markdown",
            "metadata": {},
            "source": [
                "List out the various categories in the column 'CompFreq'\n"
            ]
        },
        {
            "cell_type": "code",
            "execution_count": 35,
            "metadata": {},
            "outputs": [
                {
                    "name": "stdout",
                    "output_type": "stream",
                    "text": [
                        "Yearly     6073\n",
                        "Monthly    4788\n",
                        "Weekly      331\n",
                        "Name: CompFreq, dtype: int64\n"
                    ]
                }
            ],
            "source": [
                "# your code goes here\n",
                "print(df['CompFreq'].value_counts())"
            ]
        },
        {
            "cell_type": "markdown",
            "metadata": {},
            "source": [
                "Create a new column named 'NormalizedAnnualCompensation'. Use the hint given below if needed.\n"
            ]
        },
        {
            "cell_type": "markdown",
            "metadata": {},
            "source": [
                "Double click to see the **Hint**.\n",
                "\n",
                "<!--\n",
                "\n",
                "Use the below logic to arrive at the values for the column NormalizedAnnualCompensation.\n",
                "\n",
                "If the CompFreq is Yearly then use the exising value in CompTotal\n",
                "If the CompFreq is Monthly then multiply the value in CompTotal with 12 (months in an year)\n",
                "If the CompFreq is Weekly then multiply the value in CompTotal with 52 (weeks in an year)\n",
                "\n",
                "-->\n"
            ]
        },
        {
            "cell_type": "code",
            "execution_count": 36,
            "metadata": {},
            "outputs": [
                {
                    "data": {
                        "text/plain": [
                            "100000.0"
                        ]
                    },
                    "execution_count": 36,
                    "metadata": {},
                    "output_type": "execute_result"
                },
                {
                    "ename": "",
                    "evalue": "",
                    "output_type": "error",
                    "traceback": [
                        "\u001b[1;31mThe Kernel crashed while executing code in the the current cell or a previous cell. Please review the code in the cell(s) to identify a possible cause of the failure. Click <a href='https://aka.ms/vscodeJupyterKernelCrash'>here</a> for more info. View Jupyter <a href='command:jupyter.viewOutput'>log</a> for further details."
                    ]
                }
            ],
            "source": [
                "# your code goes here\n",
                "\n",
                "df.loc[df['CompFreq'] == 'Yearly', 'NormalizedAnnualCompensation']  = 1  * df['CompTotal']\n",
                "df.loc[df['CompFreq'] == 'Monthly', 'NormalizedAnnualCompensation'] = 12 * df['CompTotal']\n",
                "df.loc[df['CompFreq'] == 'Weekly', 'NormalizedAnnualCompensation']  = 52 * df['CompTotal']\n",
                "\n",
                "\n",
                "df[['CompTotal','CompFreq','NormalizedAnnualCompensation']].head(20)\n",
                "\n",
                "df['NormalizedAnnualCompensation'].median()\n"
            ]
        },
        {
            "cell_type": "markdown",
            "metadata": {},
            "source": [
                "## Authors\n"
            ]
        },
        {
            "cell_type": "markdown",
            "metadata": {},
            "source": [
                "Dumisani Muzungu\n"
            ]
        },
        {
            "cell_type": "markdown",
            "metadata": {},
            "source": [
                "## Change Log\n"
            ]
        },
        {
            "cell_type": "markdown",
            "metadata": {},
            "source": [
                "| Date (YYYY-MM-DD) | Version | Changed By        | Change Description                 |\n",
                "| ----------------- | ------- | ----------------- | ---------------------------------- |\n",
                "| 2023-10-17        | 0.1     | Dumisani Muzungu | Data Wrangling |\n"
            ]
        }
    ],
    "metadata": {
        "kernelspec": {
            "display_name": "Python 3 (ipykernel)",
            "language": "python",
            "name": "python3"
        },
        "language_info": {
            "codemirror_mode": {
                "name": "ipython",
                "version": 3
            },
            "file_extension": ".py",
            "mimetype": "text/x-python",
            "name": "python",
            "nbconvert_exporter": "python",
            "pygments_lexer": "ipython3",
            "version": "3.9.13"
        }
    },
    "nbformat": 4,
    "nbformat_minor": 4
}
